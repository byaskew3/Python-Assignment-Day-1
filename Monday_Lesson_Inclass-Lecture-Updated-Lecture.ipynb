{
 "cells": [
  {
   "cell_type": "markdown",
   "source": [
    "# Week 2 - Monday Lesson (variable assignment, loops, lists)"
   ],
   "metadata": {}
  },
  {
   "cell_type": "markdown",
   "source": [
    "## Tasks Today:\n",
    "\n",
    "1) Int & Float assignments <br>\n",
    " &nbsp;&nbsp;&nbsp;&nbsp; a) Assigning int <br>\n",
    " &nbsp;&nbsp;&nbsp;&nbsp; b) Assigning float <br>\n",
    " &nbsp;&nbsp;&nbsp;&nbsp; c) Performing Calculations on ints and floats <br>\n",
    " &nbsp;&nbsp;&nbsp;&nbsp;&nbsp;&nbsp;&nbsp;&nbsp; - Addition <br>\n",
    " &nbsp;&nbsp;&nbsp;&nbsp;&nbsp;&nbsp;&nbsp;&nbsp; - Subtraction <br>\n",
    " &nbsp;&nbsp;&nbsp;&nbsp;&nbsp;&nbsp;&nbsp;&nbsp; - Multiplication <br>\n",
    " &nbsp;&nbsp;&nbsp;&nbsp;&nbsp;&nbsp;&nbsp;&nbsp; - Division <br>\n",
    " &nbsp;&nbsp;&nbsp;&nbsp;&nbsp;&nbsp;&nbsp;&nbsp; - Floor Division <br>\n",
    " &nbsp;&nbsp;&nbsp;&nbsp;&nbsp;&nbsp;&nbsp;&nbsp; - Modulo <br>\n",
    " &nbsp;&nbsp;&nbsp;&nbsp;&nbsp;&nbsp;&nbsp;&nbsp; - Exponential <br>\n",
    "2) String Input-Output <br>\n",
    " &nbsp;&nbsp;&nbsp;&nbsp; a) String Assignment <br>\n",
    " &nbsp;&nbsp;&nbsp;&nbsp; b) print() <br>\n",
    " &nbsp;&nbsp;&nbsp;&nbsp; c) String Concatenation <br>\n",
    " &nbsp;&nbsp;&nbsp;&nbsp; d) Type Conversion <br>\n",
    " &nbsp;&nbsp;&nbsp;&nbsp; e) input() <br>\n",
    " &nbsp;&nbsp;&nbsp;&nbsp; f) format() <br>\n",
    " &nbsp;&nbsp;&nbsp;&nbsp; g) Old Way (python 2) <br>\n",
    "3) <b>In-Class Exercise #1</b> <br>\n",
    "4) If Statements <br>\n",
    " &nbsp;&nbsp;&nbsp;&nbsp; a) 'is' keyword <br>\n",
    " &nbsp;&nbsp;&nbsp;&nbsp; b) 'in' keyword <br>\n",
    " &nbsp;&nbsp;&nbsp;&nbsp; c) 'not in' keyword <br>\n",
    "5) <b>In-Class Exercise #2</b> <br>\n",
    "6) Elif Statements <br>\n",
    "7) Else Statements <br>\n",
    "8) <b>In-Class Exercise #3</b> <br>\n",
    "9) For Loops <br>\n",
    " &nbsp;&nbsp;&nbsp;&nbsp; a) Using 'in' keyword <br>\n",
    " &nbsp;&nbsp;&nbsp;&nbsp; b) Continue Statement <br>\n",
    " &nbsp;&nbsp;&nbsp;&nbsp; c) Break Statement <br>\n",
    " &nbsp;&nbsp;&nbsp;&nbsp; d) Pass Statement <br>\n",
    " &nbsp;&nbsp;&nbsp;&nbsp; e) Double For Loops <br>\n",
    "10) While Loops <br>\n",
    " &nbsp;&nbsp;&nbsp;&nbsp; a) Looping 'While True' <br>\n",
    " &nbsp;&nbsp;&nbsp;&nbsp; b) While and For Loops Used Together <br>\n",
    "11) Built-In Functions <br>\n",
    " &nbsp;&nbsp;&nbsp;&nbsp; a) range() <br>\n",
    " &nbsp;&nbsp;&nbsp;&nbsp; b) len() <br>\n",
    " &nbsp;&nbsp;&nbsp;&nbsp; c) help() <br>\n",
    " &nbsp;&nbsp;&nbsp;&nbsp; d) isinstance() <br>\n",
    " &nbsp;&nbsp;&nbsp;&nbsp; e) abs() <br>\n",
    "12) Try and Except <br>\n",
    "13) Lists <br>\n",
    " &nbsp;&nbsp;&nbsp;&nbsp; a) Declaring Lists <br>\n",
    " &nbsp;&nbsp;&nbsp;&nbsp; b) Indexing a List <br>\n",
    " &nbsp;&nbsp;&nbsp;&nbsp; c) .append() <br>\n",
    " &nbsp;&nbsp;&nbsp;&nbsp; d) .insert() <br>\n",
    " &nbsp;&nbsp;&nbsp;&nbsp; e) .pop() <br>\n",
    " &nbsp;&nbsp;&nbsp;&nbsp; f) .remove() <br>\n",
    " &nbsp;&nbsp;&nbsp;&nbsp; g) del() <br>\n",
    " &nbsp;&nbsp;&nbsp;&nbsp; h) Concatenating Two Lists <br>\n",
    " &nbsp;&nbsp;&nbsp;&nbsp; i) Lists Within Lists <br>\n",
    " &nbsp;&nbsp;&nbsp;&nbsp; j) Looping Through Lists <br>"
   ],
   "metadata": {}
  },
  {
   "cell_type": "markdown",
   "source": [
    "### Int & Float Assignments"
   ],
   "metadata": {}
  },
  {
   "cell_type": "markdown",
   "source": [
    "##### Assigning int"
   ],
   "metadata": {}
  },
  {
   "cell_type": "code",
   "execution_count": 21,
   "source": [
    "x = 0\r\n",
    "\r\n",
    "# built-in print() function\r\n",
    "print(x)"
   ],
   "outputs": [
    {
     "output_type": "stream",
     "name": "stdout",
     "text": [
      "0\n"
     ]
    }
   ],
   "metadata": {}
  },
  {
   "cell_type": "markdown",
   "source": [
    "##### Assinging float"
   ],
   "metadata": {}
  },
  {
   "cell_type": "code",
   "execution_count": 24,
   "source": [
    "print(type(x)) # calling the type of function on the variable x\r\n",
    "\r\n",
    "y = 3.14\r\n",
    "print(type(y))\r\n",
    "print(y)"
   ],
   "outputs": [
    {
     "output_type": "stream",
     "name": "stdout",
     "text": [
      "<class 'int'>\n",
      "<class 'float'>\n",
      "3.14\n"
     ]
    }
   ],
   "metadata": {}
  },
  {
   "cell_type": "markdown",
   "source": [
    "#### Performing Calculations on ints and floats"
   ],
   "metadata": {}
  },
  {
   "cell_type": "markdown",
   "source": [
    "##### Addition"
   ],
   "metadata": {}
  },
  {
   "cell_type": "code",
   "execution_count": 33,
   "source": [
    "x = 0\r\n",
    "y = 4\r\n",
    "z = x + y\r\n",
    "print(z)"
   ],
   "outputs": [
    {
     "output_type": "stream",
     "name": "stdout",
     "text": [
      "4\n"
     ]
    }
   ],
   "metadata": {}
  },
  {
   "cell_type": "markdown",
   "source": [
    "##### Subtraction"
   ],
   "metadata": {}
  },
  {
   "cell_type": "code",
   "execution_count": 34,
   "source": [
    "z = x - y\r\n",
    "print(z)"
   ],
   "outputs": [
    {
     "output_type": "stream",
     "name": "stdout",
     "text": [
      "-4\n"
     ]
    }
   ],
   "metadata": {}
  },
  {
   "cell_type": "markdown",
   "source": [
    "##### Multiplication"
   ],
   "metadata": {}
  },
  {
   "cell_type": "code",
   "execution_count": 38,
   "source": [
    "z = x * y + 5\r\n",
    "print(z)"
   ],
   "outputs": [
    {
     "output_type": "stream",
     "name": "stdout",
     "text": [
      "5\n"
     ]
    }
   ],
   "metadata": {}
  },
  {
   "cell_type": "code",
   "execution_count": 36,
   "source": [
    "z = x * y\r\n",
    "print(z)"
   ],
   "outputs": [
    {
     "output_type": "stream",
     "name": "stdout",
     "text": [
      "0\n"
     ]
    }
   ],
   "metadata": {}
  },
  {
   "cell_type": "markdown",
   "source": [
    "##### Division"
   ],
   "metadata": {}
  },
  {
   "cell_type": "code",
   "execution_count": 47,
   "source": [
    "num1 = 21\r\n",
    "num2 = 5\r\n",
    "\r\n",
    "print(num1/num2)\r\n",
    "print(type(num1/num2))"
   ],
   "outputs": [
    {
     "output_type": "stream",
     "name": "stdout",
     "text": [
      "4.2\n",
      "<class 'float'>\n"
     ]
    }
   ],
   "metadata": {}
  },
  {
   "cell_type": "markdown",
   "source": [
    "##### Floor Division"
   ],
   "metadata": {}
  },
  {
   "cell_type": "code",
   "execution_count": 46,
   "source": [
    "# // Floor division\r\n",
    "print(num1//num2)\r\n",
    "print(type(num1//num2))"
   ],
   "outputs": [
    {
     "output_type": "stream",
     "name": "stdout",
     "text": [
      "4\n",
      "<class 'int'>\n"
     ]
    }
   ],
   "metadata": {}
  },
  {
   "cell_type": "markdown",
   "source": [
    "##### Modulo"
   ],
   "metadata": {}
  },
  {
   "cell_type": "code",
   "execution_count": 44,
   "source": [
    "# %\r\n",
    "print(num1 % num2)"
   ],
   "outputs": [
    {
     "output_type": "stream",
     "name": "stdout",
     "text": [
      "1\n"
     ]
    }
   ],
   "metadata": {}
  },
  {
   "cell_type": "markdown",
   "source": [
    "##### Exponential"
   ],
   "metadata": {}
  },
  {
   "cell_type": "code",
   "execution_count": 48,
   "source": [
    "print(num1 ** num2)\r\n",
    "print(type(num1 ** num2))"
   ],
   "outputs": [
    {
     "output_type": "stream",
     "name": "stdout",
     "text": [
      "4084101\n",
      "<class 'int'>\n"
     ]
    }
   ],
   "metadata": {}
  },
  {
   "cell_type": "markdown",
   "source": [
    "### String Input-Output"
   ],
   "metadata": {}
  },
  {
   "cell_type": "markdown",
   "source": [
    "##### String Assignment"
   ],
   "metadata": {}
  },
  {
   "cell_type": "code",
   "execution_count": 49,
   "source": [
    "mystr = \"Hello\"\r\n",
    "print(mystr)"
   ],
   "outputs": [
    {
     "output_type": "stream",
     "name": "stdout",
     "text": [
      "Hello\n"
     ]
    }
   ],
   "metadata": {}
  },
  {
   "cell_type": "markdown",
   "source": [
    "##### print() <br>\n",
    "<p>Don't forget about end=' '</p>"
   ],
   "metadata": {}
  },
  {
   "cell_type": "code",
   "execution_count": 51,
   "source": [
    "print(mystr)\r\n",
    "print(mystr, end=\"WOW!\")"
   ],
   "outputs": [
    {
     "output_type": "stream",
     "name": "stdout",
     "text": [
      "Hello\n",
      "HelloWOW!"
     ]
    }
   ],
   "metadata": {}
  },
  {
   "cell_type": "markdown",
   "source": [
    "##### String Concatenation"
   ],
   "metadata": {}
  },
  {
   "cell_type": "code",
   "execution_count": null,
   "source": [
    "# Strings are immutable\r\n",
    "mystring = \"Fennec Fox\"\r\n",
    "mystring + \"!\"\r\n",
    "print(mystring)\r\n",
    "\r\n",
    "#any time that we watn to change a string, we must redefine it\r\n",
    "mystring = mystring +\"!\"\r\n",
    "print(mystring)"
   ],
   "outputs": [],
   "metadata": {}
  },
  {
   "cell_type": "code",
   "execution_count": 52,
   "source": [
    "str1 = \"fennec\"\r\n",
    "str2 = \"fox\"\r\n",
    "\r\n",
    "str3 = str1 + \" \" + str2\r\n",
    "print(str3)"
   ],
   "outputs": [
    {
     "output_type": "stream",
     "name": "stdout",
     "text": [
      "fennec fox\n"
     ]
    }
   ],
   "metadata": {}
  },
  {
   "cell_type": "markdown",
   "source": [
    "##### Type Conversion"
   ],
   "metadata": {}
  },
  {
   "cell_type": "code",
   "execution_count": 58,
   "source": [
    "x = 0\r\n",
    "print(type(x))\r\n",
    "x = str(x)\r\n",
    "print(type(x))\r\n",
    "\r\n",
    "stringbutnumber = \"4.11\"\r\n",
    "convertedfloat = int(float(stringbutnumber))\r\n",
    "print(convertedfloat)"
   ],
   "outputs": [
    {
     "output_type": "stream",
     "name": "stdout",
     "text": [
      "<class 'int'>\n",
      "<class 'str'>\n",
      "4\n"
     ]
    }
   ],
   "metadata": {}
  },
  {
   "cell_type": "markdown",
   "source": [
    "##### input()"
   ],
   "metadata": {}
  },
  {
   "cell_type": "code",
   "execution_count": 59,
   "source": [
    "returnvalueofinputfunc = input(\"What is your favorite animal?\") #saving the return of the input function as a variable\r\n",
    "print(returnvalueofinputfunc)"
   ],
   "outputs": [
    {
     "output_type": "stream",
     "name": "stdout",
     "text": [
      "polar bear\n"
     ]
    }
   ],
   "metadata": {}
  },
  {
   "cell_type": "markdown",
   "source": [
    "##### format()"
   ],
   "metadata": {}
  },
  {
   "cell_type": "code",
   "execution_count": 61,
   "source": [
    "# f-strings are the most common modern way to format a string\r\n",
    "fstring = f\"I want {stringbutnumber} to be {convertedfloat}\"\r\n",
    "print(fstring)"
   ],
   "outputs": [
    {
     "output_type": "stream",
     "name": "stdout",
     "text": [
      "I want 4.11 to be 4\n"
     ]
    }
   ],
   "metadata": {}
  },
  {
   "cell_type": "markdown",
   "source": [
    "##### Old Way (python 2)"
   ],
   "metadata": {}
  },
  {
   "cell_type": "code",
   "execution_count": null,
   "source": [],
   "outputs": [],
   "metadata": {}
  },
  {
   "cell_type": "markdown",
   "source": [
    "# In-Class Exercise 1 <br>\n",
    "<p>Create a format statement that asks for color, year, make, model and prints out the results</p>"
   ],
   "metadata": {}
  },
  {
   "cell_type": "code",
   "execution_count": 1,
   "source": [
    "car_color = input(\"What is the car color?\").title()\r\n",
    "car_year = input(\"What is the car year?\")\r\n",
    "car_make = input(\"What is the car make?\").title()\r\n",
    "car_model = input(\"What is the car model?\").title()\r\n",
    "\r\n",
    "print(f\"The car you choose is a {car_color}, {car_year}, {car_make}, {car_model}!\")"
   ],
   "outputs": [
    {
     "output_type": "stream",
     "name": "stdout",
     "text": [
      "The car you choose is a , , , Escape!\n"
     ]
    }
   ],
   "metadata": {}
  },
  {
   "cell_type": "markdown",
   "source": [
    "### If Statements"
   ],
   "metadata": {}
  },
  {
   "cell_type": "code",
   "execution_count": 64,
   "source": [
    "# Available operators: Greater(>), Less(<),Equal(==)\r\n",
    "# Greater or Equal(>=), Less or Equal (<=)\r\n",
    "\r\n",
    "# Truth Tree:\r\n",
    "# T && F = F\r\n",
    "# T && T = T\r\n",
    "# T || F = T\r\n",
    "# F || T = T\r\n",
    "# F || F = F\r\n",
    "\r\n",
    "# Every conditional statement must evaluate to either True or False\r\n",
    "num1 = 5\r\n",
    "num2 = 10\r\n",
    "\r\n",
    "if num1 == num2:\r\n",
    "    print(\"This won't print\")\r\n",
    "elif num1 >= num2:\r\n",
    "    print(\"Neither will this\")\r\n",
    "elif num1 <= num2:\r\n",
    "    print(\"Hey this wound up true\")\r\n",
    "else:\r\n",
    "    print(\"Won't print\")\r\n"
   ],
   "outputs": [],
   "metadata": {}
  },
  {
   "cell_type": "code",
   "execution_count": 6,
   "source": [
    "str1 =  \"Fox\"\r\n",
    "str2 = \"Arctic\"\r\n",
    "str3 = \"Fennec\"\r\n",
    "str4 = \"Fox\"\r\n",
    "\r\n",
    "if str2 > str4:\r\n",
    "    print(str2 == str4)"
   ],
   "outputs": [],
   "metadata": {}
  },
  {
   "cell_type": "markdown",
   "source": [
    "##### 'is' keyword"
   ],
   "metadata": {}
  },
  {
   "cell_type": "code",
   "execution_count": null,
   "source": [
    "# is keyword is another conditional operator\r\n",
    "# intention is to compare the memory address or reference of a variable"
   ],
   "outputs": [],
   "metadata": {
    "scrolled": true
   }
  },
  {
   "cell_type": "markdown",
   "source": [
    "##### 'in' keyword"
   ],
   "metadata": {}
  },
  {
   "cell_type": "code",
   "execution_count": 8,
   "source": [
    "str1 = \"Fox\"\r\n",
    "str2 = \"Oh look there's a Fox.\"\r\n",
    "\r\n",
    "#Works for any collection as well as strings\r\n",
    "\r\n",
    "if str1 in str2:\r\n",
    "    print(\"Yes\")\r\n",
    "\r\n",
    "animals = [\"Fox\", \"Bear\", \"Turtle\", \"Liger\"]\r\n",
    "\r\n",
    "# if using on a list, tuple, set, or dictionary this is referred to as a \"membership test\"\r\n",
    "\r\n",
    "if str1 in animals:\r\n",
    "    print(\"Yessss\")"
   ],
   "outputs": [
    {
     "output_type": "stream",
     "name": "stdout",
     "text": [
      "Yes\n",
      "Yessss\n"
     ]
    }
   ],
   "metadata": {}
  },
  {
   "cell_type": "markdown",
   "source": [
    "##### 'not in' keyword'"
   ],
   "metadata": {}
  },
  {
   "cell_type": "code",
   "execution_count": 9,
   "source": [
    "if \"lion\" not in animals:\r\n",
    "    print(\"add to animals\")"
   ],
   "outputs": [
    {
     "output_type": "stream",
     "name": "stdout",
     "text": [
      "add to animals\n"
     ]
    }
   ],
   "metadata": {}
  },
  {
   "cell_type": "code",
   "execution_count": 16,
   "source": [
    "# implied operators\r\n",
    "\r\n",
    "if True:\r\n",
    "    print(\"True is always True.\")\r\n",
    "if not False:\r\n",
    "    print(\"not False is always True\")\r\n",
    "if not None:\r\n",
    "    print(\"not nothing is something.\")\r\n",
    "if \"something\":\r\n",
    "    print(\"something is nothing\")\r\n",
    "if not 0:\r\n",
    "    print(\"0 is False\")\r\n",
    "if 1:\r\n",
    "    print(\"1 is True\")"
   ],
   "outputs": [
    {
     "output_type": "stream",
     "name": "stdout",
     "text": [
      "True is always True.\n",
      "not False is always True\n",
      "not nothing is something.\n",
      "something is nothing\n",
      "1 is True\n"
     ]
    }
   ],
   "metadata": {}
  },
  {
   "cell_type": "markdown",
   "source": [
    "# In-Class Exercise 2 <br>\n",
    "<p>Ask user for input, check to see if the letter 'p' is in the input</p>"
   ],
   "metadata": {}
  },
  {
   "cell_type": "code",
   "execution_count": 25,
   "source": [
    "name = input(\"What is your name?\").title()\r\n",
    "if \"p\" in name:\r\n",
    "    print(f\"Yes there is a P in your name {name}!\")\r\n",
    "else:\r\n",
    "    print(f\"There is NOT a P in your name {name}.\")"
   ],
   "outputs": [
    {
     "output_type": "stream",
     "name": "stdout",
     "text": [
      "There is NOT a P in your name Joe.\n"
     ]
    }
   ],
   "metadata": {}
  },
  {
   "cell_type": "markdown",
   "source": [
    "## Using 'and'/'or' with If Statements"
   ],
   "metadata": {}
  },
  {
   "cell_type": "code",
   "execution_count": null,
   "source": [
    "# and/or are keywords used to connect two boolean operations insidee one condtional statement\r\n",
    "# note that eventually the condtioinal must evaluate down to a single True or False value\r\n",
    "# the statements on the left and right of and/or must be complete statements\r\n",
    "if (3.14 > 3) and (5 > -5):\r\n",
    "    print(\"this is proper\")\r\n",
    "# line 4 after inital evaluation becomes:\r\n",
    "if True and True:\r\n",
    "    print(\"True\")"
   ],
   "outputs": [],
   "metadata": {}
  },
  {
   "cell_type": "markdown",
   "source": [
    "### Elif Statements"
   ],
   "metadata": {}
  },
  {
   "cell_type": "code",
   "execution_count": null,
   "source": [],
   "outputs": [],
   "metadata": {}
  },
  {
   "cell_type": "markdown",
   "source": [
    "### Else Statements"
   ],
   "metadata": {}
  },
  {
   "cell_type": "code",
   "execution_count": 65,
   "source": [
    "# see above"
   ],
   "outputs": [],
   "metadata": {}
  },
  {
   "cell_type": "markdown",
   "source": [
    "### For Loops"
   ],
   "metadata": {}
  },
  {
   "cell_type": "code",
   "execution_count": 35,
   "source": [
    "# we'll just talk numbers for now\r\n",
    "# you can generate a sequence of numbers to 'iterate through' aka loop through\r\n",
    "# using the range() function\r\n",
    "# specifies a number to start your sequence, a number to end your sequence, and a step or jump between numbers\r\n",
    "# range(start, stop, step)\r\n",
    "print(list(range(1, 10, 1)))\r\n",
    "\r\n",
    "#a for-in loop\r\n",
    "# can be used on any iterable\r\n",
    "# an iterable iis anything we can loop through or iterate over\r\n",
    "for x in range(1, 11, 2):\r\n",
    "    print(x)\r\n",
    "\r\n",
    "print()\r\n",
    "# strings are iterables\r\n",
    "mystring = \"Fennec Fox\"\r\n",
    "for letter in mystring:\r\n",
    "    print(letter)"
   ],
   "outputs": [
    {
     "output_type": "stream",
     "name": "stdout",
     "text": [
      "[1, 2, 3, 4, 5, 6, 7, 8, 9]\n",
      "1\n",
      "3\n",
      "5\n",
      "7\n",
      "9\n",
      "\n",
      "F\n",
      "e\n",
      "n\n",
      "n\n",
      "e\n",
      "c\n",
      " \n",
      "F\n",
      "o\n",
      "x\n"
     ]
    }
   ],
   "metadata": {}
  },
  {
   "cell_type": "markdown",
   "source": [
    "##### Using 'in' keyword"
   ],
   "metadata": {}
  },
  {
   "cell_type": "code",
   "execution_count": 66,
   "source": [
    "# see above"
   ],
   "outputs": [],
   "metadata": {}
  },
  {
   "cell_type": "markdown",
   "source": [
    "##### Continue Statement"
   ],
   "metadata": {}
  },
  {
   "cell_type": "code",
   "execution_count": 67,
   "source": [
    "# will continue to next iteration"
   ],
   "outputs": [],
   "metadata": {}
  },
  {
   "cell_type": "code",
   "execution_count": 37,
   "source": [
    "for letter in mystring:\r\n",
    "    if letter == \"F\":\r\n",
    "        continue\r\n",
    "    print(letter)"
   ],
   "outputs": [
    {
     "output_type": "stream",
     "name": "stdout",
     "text": [
      "e\n",
      "n\n",
      "n\n",
      "e\n",
      "c\n",
      " \n",
      "o\n",
      "x\n"
     ]
    }
   ],
   "metadata": {}
  },
  {
   "cell_type": "markdown",
   "source": [
    "##### Break Statement"
   ],
   "metadata": {}
  },
  {
   "cell_type": "code",
   "execution_count": 68,
   "source": [
    "# will break out of current loop"
   ],
   "outputs": [],
   "metadata": {}
  },
  {
   "cell_type": "code",
   "execution_count": null,
   "source": [],
   "outputs": [],
   "metadata": {}
  },
  {
   "cell_type": "markdown",
   "source": [
    "##### Pass Statement"
   ],
   "metadata": {}
  },
  {
   "cell_type": "code",
   "execution_count": 69,
   "source": [
    "# mostly used as a placeholder, and will continue on same iteration"
   ],
   "outputs": [],
   "metadata": {}
  },
  {
   "cell_type": "code",
   "execution_count": 38,
   "source": [
    "for letter in mystring:\r\n",
    "    pass\r\n",
    "print(\"Loop over\")"
   ],
   "outputs": [
    {
     "output_type": "stream",
     "name": "stdout",
     "text": [
      "Loop over\n"
     ]
    }
   ],
   "metadata": {}
  },
  {
   "cell_type": "markdown",
   "source": [
    "##### Double For Loops"
   ],
   "metadata": {}
  },
  {
   "cell_type": "code",
   "execution_count": 40,
   "source": [
    "# nested for loops\r\n",
    "for l in mystring:\r\n",
    "    print(f\"{l} outer loop stepped\")\r\n",
    "    # do your best to avoid nesting loops - as a rule of thumb it is incredibly rare to need more than a double-nested loop\r\n",
    "    # don't add the third unless you are absolutely certain you need it\r\n",
    "    for x in [1,2,3]:\r\n",
    "        print(1, x)"
   ],
   "outputs": [
    {
     "output_type": "stream",
     "name": "stdout",
     "text": [
      "F outer loop stepped\n",
      "1 1\n",
      "1 2\n",
      "1 3\n",
      "e outer loop stepped\n",
      "1 1\n",
      "1 2\n",
      "1 3\n",
      "n outer loop stepped\n",
      "1 1\n",
      "1 2\n",
      "1 3\n",
      "n outer loop stepped\n",
      "1 1\n",
      "1 2\n",
      "1 3\n",
      "e outer loop stepped\n",
      "1 1\n",
      "1 2\n",
      "1 3\n",
      "c outer loop stepped\n",
      "1 1\n",
      "1 2\n",
      "1 3\n",
      "  outer loop stepped\n",
      "1 1\n",
      "1 2\n",
      "1 3\n",
      "F outer loop stepped\n",
      "1 1\n",
      "1 2\n",
      "1 3\n",
      "o outer loop stepped\n",
      "1 1\n",
      "1 2\n",
      "1 3\n",
      "x outer loop stepped\n",
      "1 1\n",
      "1 2\n",
      "1 3\n"
     ]
    }
   ],
   "metadata": {}
  },
  {
   "cell_type": "markdown",
   "source": [
    "### While Loops"
   ],
   "metadata": {}
  },
  {
   "cell_type": "code",
   "execution_count": 42,
   "source": [
    "# unlike the for loop, the while loop is based off a condition\r\n",
    "# while the condtion is True, the loop runs\r\n",
    "# when the condition is false, the loop stops\r\n",
    "# be careful of infinte loops\r\n",
    "x = 3\r\n",
    "while x < 1000:\r\n",
    "    print(x)\r\n",
    "    x = x**2"
   ],
   "outputs": [
    {
     "output_type": "stream",
     "name": "stdout",
     "text": [
      "3\n",
      "9\n",
      "81\n"
     ]
    }
   ],
   "metadata": {}
  },
  {
   "cell_type": "markdown",
   "source": [
    "##### Looping 'While True'"
   ],
   "metadata": {}
  },
  {
   "cell_type": "code",
   "execution_count": 44,
   "source": [
    "# also referred to as a while loop with a flag or based on a flag\r\n",
    "# really easy to accidentally make an infinite loop\r\n",
    "\r\n",
    "while True:\r\n",
    "    answer = input(\"What is the secret password?\").title()\r\n",
    "    if answer == \"Alpha\":\r\n",
    "        break\r\n",
    "    else:\r\n",
    "        print(\"Wrong answer.\")\r\n",
    "    print(f\"Your answer was {answer}\")\r\n"
   ],
   "outputs": [
    {
     "output_type": "stream",
     "name": "stdout",
     "text": [
      "1\n",
      "2\n",
      "3\n",
      "4\n",
      "5\n",
      "6\n",
      "7\n",
      "8\n",
      "9\n",
      "10\n",
      "11\n",
      "12\n",
      "13\n",
      "14\n",
      "15\n",
      "16\n",
      "17\n",
      "18\n",
      "19\n",
      "20\n",
      "21\n",
      "22\n",
      "23\n",
      "24\n",
      "25\n",
      "26\n",
      "27\n",
      "28\n",
      "29\n",
      "30\n",
      "31\n",
      "32\n",
      "33\n",
      "34\n",
      "35\n",
      "36\n",
      "37\n",
      "38\n",
      "39\n",
      "40\n",
      "41\n",
      "42\n",
      "43\n",
      "44\n",
      "45\n",
      "46\n",
      "47\n",
      "48\n",
      "49\n",
      "50\n",
      "51\n",
      "52\n",
      "53\n",
      "54\n",
      "55\n",
      "56\n",
      "57\n",
      "58\n",
      "59\n",
      "60\n",
      "61\n",
      "62\n",
      "63\n",
      "64\n",
      "65\n",
      "66\n",
      "67\n",
      "68\n",
      "69\n",
      "70\n",
      "71\n",
      "72\n",
      "73\n",
      "74\n",
      "75\n",
      "76\n",
      "77\n",
      "78\n",
      "79\n",
      "80\n",
      "81\n",
      "82\n",
      "83\n",
      "84\n",
      "85\n",
      "86\n",
      "87\n",
      "88\n",
      "89\n",
      "90\n",
      "91\n",
      "92\n",
      "93\n",
      "94\n",
      "95\n",
      "96\n",
      "97\n",
      "98\n",
      "99\n",
      "100\n",
      "101\n"
     ]
    }
   ],
   "metadata": {}
  },
  {
   "cell_type": "markdown",
   "source": [
    "##### While & For Loops Used Together"
   ],
   "metadata": {}
  },
  {
   "cell_type": "code",
   "execution_count": 50,
   "source": [
    "x = 0\r\n",
    "while x < 100:\r\n",
    "    print(f\"start of step: {x}\")\r\n",
    "    for i in range(10):\r\n",
    "        print(f\"for loop step i: {i} x: {x}\")\r\n",
    "        x += i\r\n",
    "    print(f\" end of while step: {x}\")\r\n"
   ],
   "outputs": [
    {
     "output_type": "stream",
     "name": "stdout",
     "text": [
      "start of step: 0\n",
      "for loop step i: 0 x: 0\n",
      "for loop step i: 1 x: 0\n",
      "for loop step i: 2 x: 1\n",
      "for loop step i: 3 x: 3\n",
      "for loop step i: 4 x: 6\n",
      "for loop step i: 5 x: 10\n",
      "for loop step i: 6 x: 15\n",
      "for loop step i: 7 x: 21\n",
      "for loop step i: 8 x: 28\n",
      "for loop step i: 9 x: 36\n",
      " end of while step: 45\n",
      "start of step: 45\n",
      "for loop step i: 0 x: 45\n",
      "for loop step i: 1 x: 45\n",
      "for loop step i: 2 x: 46\n",
      "for loop step i: 3 x: 48\n",
      "for loop step i: 4 x: 51\n",
      "for loop step i: 5 x: 55\n",
      "for loop step i: 6 x: 60\n",
      "for loop step i: 7 x: 66\n",
      "for loop step i: 8 x: 73\n",
      "for loop step i: 9 x: 81\n",
      " end of while step: 90\n",
      "start of step: 90\n",
      "for loop step i: 0 x: 90\n",
      "for loop step i: 1 x: 90\n",
      "for loop step i: 2 x: 91\n",
      "for loop step i: 3 x: 93\n",
      "for loop step i: 4 x: 96\n",
      "for loop step i: 5 x: 100\n",
      "for loop step i: 6 x: 105\n",
      "for loop step i: 7 x: 111\n",
      "for loop step i: 8 x: 118\n",
      "for loop step i: 9 x: 126\n",
      " end of while step: 135\n"
     ]
    }
   ],
   "metadata": {}
  },
  {
   "cell_type": "markdown",
   "source": [
    "### Built-In Functions"
   ],
   "metadata": {}
  },
  {
   "cell_type": "markdown",
   "source": [
    "##### range()"
   ],
   "metadata": {}
  },
  {
   "cell_type": "code",
   "execution_count": 55,
   "source": [
    "# range(start, stop, step)\r\n",
    "# range(stop) defaults start to 0 and step to 1\r\n",
    "# the stop value is not included\r\n",
    "# the range function is a generater - > we'll talk more on this later but it yields back the values\r\n",
    "x = range(-3, 10, 3)\r\n",
    "print(list(x))\r\n",
    "x = range(10)\r\n",
    "print(list(x))"
   ],
   "outputs": [
    {
     "output_type": "stream",
     "name": "stdout",
     "text": [
      "[-3, 0, 3, 6, 9]\n",
      "[0, 1, 2, 3, 4, 5, 6, 7, 8, 9]\n"
     ]
    }
   ],
   "metadata": {}
  },
  {
   "cell_type": "markdown",
   "source": [
    "##### len()"
   ],
   "metadata": {}
  },
  {
   "cell_type": "code",
   "execution_count": 57,
   "source": [
    "# we'll talk further about what it means for sometihng to be indexable\r\n",
    "# but strings, lists, tuples are all indexable and therefore we can loop thorugh their index numbers\r\n",
    "\r\n",
    "# len() returns the length of any iterable\r\n",
    "mystring = \"Burton Guster\"\r\n",
    "lenmystr = len(mystring)\r\n",
    "print(f\" string: {mystring}, len(string): {lenmystr}\")\r\n",
    "\r\n",
    "# accerssing the letter at the index in a string\r\n",
    "mystring[7]\r\n",
    "\r\n",
    "# we can write a for loop through the indexes of any indexable iterator\r\n",
    "for i in range(len(mystring)):\r\n",
    "    print(f\"i value: {i}\")"
   ],
   "outputs": [
    {
     "output_type": "stream",
     "name": "stdout",
     "text": [
      " string: Burton Guster, len(string): 13\n",
      "i value: 0\n",
      "i value: 1\n",
      "i value: 2\n",
      "i value: 3\n",
      "i value: 4\n",
      "i value: 5\n",
      "i value: 6\n",
      "i value: 7\n",
      "i value: 8\n",
      "i value: 9\n",
      "i value: 10\n",
      "i value: 11\n",
      "i value: 12\n"
     ]
    }
   ],
   "metadata": {}
  },
  {
   "cell_type": "markdown",
   "source": [
    "##### help()"
   ],
   "metadata": {}
  },
  {
   "cell_type": "code",
   "execution_count": null,
   "source": [],
   "outputs": [],
   "metadata": {}
  },
  {
   "cell_type": "markdown",
   "source": [
    "##### isinstance()"
   ],
   "metadata": {}
  },
  {
   "cell_type": "code",
   "execution_count": null,
   "source": [
    "# put in a variable and a type and it will tell us if the variable is that type\r\n",
    "x = 0\r\n",
    "isinstance(x, int)\r\n",
    "fox = \"Fennec\"\r\n",
    "isinstance(fox, str)\r\n"
   ],
   "outputs": [],
   "metadata": {}
  },
  {
   "cell_type": "markdown",
   "source": [
    "##### abs()"
   ],
   "metadata": {}
  },
  {
   "cell_type": "code",
   "execution_count": 58,
   "source": [
    "# absolute value\r\n",
    "x = -3\r\n",
    "print(abs(x))"
   ],
   "outputs": [
    {
     "output_type": "stream",
     "name": "stdout",
     "text": [
      "3\n"
     ]
    }
   ],
   "metadata": {}
  },
  {
   "cell_type": "markdown",
   "source": [
    "### Try and Except"
   ],
   "metadata": {}
  },
  {
   "cell_type": "code",
   "execution_count": null,
   "source": [
    "# commonly refered to as a try/except block\r\n",
    "\r\n",
    "# try some code in the try block, if it works skip the except block\r\n",
    "# if it produces an error, run the except block\r\n",
    "\r\n",
    "fennec = \"Fox\"\r\n",
    "\r\n",
    "try:\r\n",
    "    fennec"
   ],
   "outputs": [],
   "metadata": {}
  },
  {
   "cell_type": "markdown",
   "source": [
    "### Lists"
   ],
   "metadata": {}
  },
  {
   "cell_type": "markdown",
   "source": [
    "##### Declaring Lists"
   ],
   "metadata": {}
  },
  {
   "cell_type": "code",
   "execution_count": null,
   "source": [],
   "outputs": [],
   "metadata": {}
  },
  {
   "cell_type": "markdown",
   "source": [
    "##### Indexing a List"
   ],
   "metadata": {}
  },
  {
   "cell_type": "code",
   "execution_count": null,
   "source": [],
   "outputs": [],
   "metadata": {}
  },
  {
   "cell_type": "markdown",
   "source": [
    "##### .append()"
   ],
   "metadata": {}
  },
  {
   "cell_type": "code",
   "execution_count": null,
   "source": [],
   "outputs": [],
   "metadata": {}
  },
  {
   "cell_type": "markdown",
   "source": [
    "##### .insert()"
   ],
   "metadata": {}
  },
  {
   "cell_type": "code",
   "execution_count": null,
   "source": [],
   "outputs": [],
   "metadata": {}
  },
  {
   "cell_type": "markdown",
   "source": [
    "##### .pop()"
   ],
   "metadata": {}
  },
  {
   "cell_type": "code",
   "execution_count": null,
   "source": [],
   "outputs": [],
   "metadata": {}
  },
  {
   "cell_type": "markdown",
   "source": [
    "\n",
    "##### .remove()"
   ],
   "metadata": {}
  },
  {
   "cell_type": "code",
   "execution_count": null,
   "source": [],
   "outputs": [],
   "metadata": {}
  },
  {
   "cell_type": "markdown",
   "source": [
    "##### del()"
   ],
   "metadata": {}
  },
  {
   "cell_type": "code",
   "execution_count": 11,
   "source": [
    "for x in range(2, 3):\r\n",
    "    print(x)"
   ],
   "outputs": [
    {
     "output_type": "stream",
     "name": "stdout",
     "text": [
      "2\n"
     ]
    }
   ],
   "metadata": {}
  },
  {
   "cell_type": "markdown",
   "source": [
    "##### Concatenating Two Lists"
   ],
   "metadata": {}
  },
  {
   "cell_type": "code",
   "execution_count": null,
   "source": [],
   "outputs": [],
   "metadata": {}
  },
  {
   "cell_type": "markdown",
   "source": [
    "##### Lists Within Lists"
   ],
   "metadata": {}
  },
  {
   "cell_type": "code",
   "execution_count": null,
   "source": [],
   "outputs": [],
   "metadata": {}
  },
  {
   "cell_type": "markdown",
   "source": [
    "##### Looping Through Lists"
   ],
   "metadata": {}
  },
  {
   "cell_type": "code",
   "execution_count": null,
   "source": [],
   "outputs": [],
   "metadata": {}
  },
  {
   "cell_type": "markdown",
   "source": [
    "## Exercise #1 <br>\n",
    "<p>Cube Number Test... Print out all cubed numbers up to the total value 1000. Meaning that if the cubed number is over 1000 break the loop.</p>"
   ],
   "metadata": {}
  },
  {
   "cell_type": "code",
   "execution_count": 60,
   "source": [
    "x = 0\r\n",
    "while x < 1000:\r\n",
    "    x = x**3\r\n",
    "    if x > 1000:\r\n",
    "        break\r\n",
    "    print(x)\r\n",
    "    x+=1"
   ],
   "outputs": [
    {
     "output_type": "stream",
     "name": "stdout",
     "text": [
      "0\n",
      "1\n",
      "8\n",
      "729\n"
     ]
    }
   ],
   "metadata": {}
  },
  {
   "cell_type": "markdown",
   "source": [
    "## Exercise #2 <br>\n",
    "<p>Get first prime numbers up to 100</p>"
   ],
   "metadata": {}
  },
  {
   "cell_type": "code",
   "execution_count": 4,
   "source": [
    "# HINT::\r\n",
    "# An else after an if runs if the if didn’t\r\n",
    "# An else after a for runs if the for didn’t break\r\n",
    "# A prime number is a number that is only divided by 1 and itself.\r\n",
    "for num in range(2,101): # for 2 in range(2,101)\r\n",
    "    for x in range(2, num): # for 2 in range(2, 2)\r\n",
    "        if(num % x) == 0: #if([]%x) == 0\r\n",
    "            break\r\n",
    "    else:\r\n",
    "        print(num) # print 2 etc.\r\n"
   ],
   "outputs": [
    {
     "output_type": "stream",
     "name": "stdout",
     "text": [
      "2\n",
      "3\n",
      "5\n",
      "7\n",
      "11\n",
      "13\n",
      "17\n",
      "19\n",
      "23\n",
      "29\n",
      "31\n",
      "37\n",
      "41\n",
      "43\n",
      "47\n",
      "53\n",
      "59\n",
      "61\n",
      "67\n",
      "71\n",
      "73\n",
      "79\n",
      "83\n",
      "89\n",
      "97\n"
     ]
    }
   ],
   "metadata": {}
  },
  {
   "cell_type": "markdown",
   "source": [
    "# Exercise 3 <br>\n",
    "<p>Take in a users input for their age, if they are younger than 18 print kids, if they're 18 to 65 print adults, else print seniors</p>"
   ],
   "metadata": {}
  },
  {
   "cell_type": "code",
   "execution_count": 1,
   "source": [
    "user_age = input(\"How old are you?\")\r\n",
    "age = int(user_age)\r\n",
    "\r\n",
    "if age < 18:\r\n",
    "    print(\"Kids\")\r\n",
    "elif age >= 18 and age < 65:\r\n",
    "    print(\"Adults\")\r\n",
    "else:\r\n",
    "    print(\"Seniors\")"
   ],
   "outputs": [
    {
     "output_type": "stream",
     "name": "stdout",
     "text": [
      "Adults\n"
     ]
    }
   ],
   "metadata": {}
  }
 ],
 "metadata": {
  "kernelspec": {
   "name": "python3",
   "display_name": "Python 3.9.6 64-bit"
  },
  "language_info": {
   "codemirror_mode": {
    "name": "ipython",
    "version": 3
   },
   "file_extension": ".py",
   "mimetype": "text/x-python",
   "name": "python",
   "nbconvert_exporter": "python",
   "pygments_lexer": "ipython3",
   "version": "3.9.6"
  },
  "interpreter": {
   "hash": "57990f1ad2ea89c67ddae7f31d40c478205c5912da0fccfb7c5cfbb2b8bf17ad"
  }
 },
 "nbformat": 4,
 "nbformat_minor": 2
}